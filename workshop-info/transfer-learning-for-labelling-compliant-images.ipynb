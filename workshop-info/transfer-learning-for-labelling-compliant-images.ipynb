{
 "cells": [
  {
   "cell_type": "code",
   "execution_count": 1,
   "metadata": {
    "collapsed": true
   },
   "outputs": [],
   "source": [
    "from IPython.display import display, Markdown"
   ]
  },
  {
   "cell_type": "code",
   "execution_count": 2,
   "metadata": {},
   "outputs": [
    {
     "data": {
      "text/markdown": [
       "# BC Data Science Workshop\n",
       "\n",
       "## Project 2 Details: BC Safety Authority\n",
       "\n",
       "### Background summary\n",
       "\n",
       "The [Safety Authority](https://www.safetyauthority.ca/) is responsible\n",
       "for all of the inspection and permitting in British Columbia &mdash;\n",
       "whether it be elevators, chairlifts, boilers or home renos. Large\n",
       "amounts of data are collected for inspection and inicdent alike. This\n",
       "data elucidates the state of building and maintenance practices, as\n",
       "well as accident prevention practices. Unfortunately, this data is\n",
       "time consuming to process, and no clear method exists for using this\n",
       "data to predict optimal inspection strategies for harm and incident\n",
       "mitigation.\n",
       "\n",
       "Inspection sites can be rated as complaint and\n",
       "non-compliant. Presently, compliance categorizations are determined by\n",
       "field employees with expertise in safety and inspection codes. These\n",
       "employees document on-site materials with photographs and reports,\n",
       "which include an overall hazard rating (on a scale of 1 through 5).\n",
       "\n",
       "It would improve both efficacy and efficiency of the inspection\n",
       "process to automate the compliance classification. A method to achieve\n",
       "this includes classifying compliance of on-site inspection and\n",
       "incident images by predicting their hazard rating. A second\n",
       "possibility is the automated determination of hazardous objects in\n",
       "inspection and incident images.\n",
       "\n",
       "While state of the art methods for image classification exist,\n",
       "classifying high-level salient concepts from raw image data is still a\n",
       "highly non-trivial task.\n",
       "\n",
       "### Technical Information and Resources\n",
       "\n",
       "In this project, you will capitalize on the skills you developed in\n",
       "the first week &mdash; as well as your resourcefulness as graduate\n",
       "students &mdash; to rapdily prototype a magnificent duct tape\n",
       "structure capable of state-of-the-art image classification.\n",
       "\n",
       "Available to you are the following resources:\n",
       "\n",
       "1. An AWS S3 bucket of approximately 10 000 training images. Aaron will show you how to access this material using `boto3` via [`s3Download.py`](./s3Download.py). \n",
       "2. A publicly available implementation of a state of the art [neural network for image classification](https://github.com/fastai/courses/blob/master/deeplearning1/nbs/vgg16.py).\n",
       "3. Publicly [available material](https://kratzert.github.io/2017/02/24/finetuning-alexnet-with-tensorflow.html) that could be useful in modifying the above network to take advantage of *transfer learning*.\n",
       "4. The above material is implemented in `keras` and `tensorflow`. [Associated methods](https://keras.io/preprocessing/image/) could, perhaps, be chained together (or modified) with `boto3` to help with preprocessing/training.\n",
       "5. There's a [plethora](ftp://ftp.cs.wisc.edu/machine-learning/shavlik-group/torrey.handbook09.pdf) of [information](https://medium.com/towards-data-science/transfer-learning-using-keras-d804b2e04ef8) on [transfer learning](https://journalofbigdata.springeropen.com/articles/10.1186/s40537-016-0043-6). This includes the [tensorflow blog](https://www.tensorflow.org/tutorials/image_retraining) and [other online blogs](https://www.analyticsvidhya.com/blog/2017/06/transfer-learning-the-art-of-fine-tuning-a-pre-trained-model/). \n",
       "\n",
       "\n",
       "Optionally available:\n",
       "\n",
       "1. Methods for Active Learning with Bayesian CNNs are [available on GitHub](https://github.com/Riashat/Active-Learning-Bayesian-Convolutional-Neural-Networks); [posters](https://riashatislam.files.wordpress.com/2017/07/2017-icml-deep_active_learning-poster.pdf) and [publications](http://bayesiandeeplearning.org/papers/BDL_35.pdf) are available.\n",
       "2. If your computational power isn't cutting it, let me know and we can see about other options. \n"
      ],
      "text/plain": [
       "<IPython.core.display.Markdown object>"
      ]
     },
     "metadata": {},
     "output_type": "display_data"
    }
   ],
   "source": [
    "display(Markdown('README.md'))"
   ]
  }
 ],
 "metadata": {
  "kernelspec": {
   "display_name": "Python [default]",
   "language": "python",
   "name": "python3"
  },
  "language_info": {
   "codemirror_mode": {
    "name": "ipython",
    "version": 3
   },
   "file_extension": ".py",
   "mimetype": "text/x-python",
   "name": "python",
   "nbconvert_exporter": "python",
   "pygments_lexer": "ipython3",
   "version": "3.5.3"
  },
  "toc": {
   "colors": {
    "hover_highlight": "#DAA520",
    "navigate_num": "#000000",
    "navigate_text": "#333333",
    "running_highlight": "#FF0000",
    "selected_highlight": "#FFD700",
    "sidebar_border": "#EEEEEE",
    "wrapper_background": "#FFFFFF"
   },
   "moveMenuLeft": true,
   "nav_menu": {
    "height": "83px",
    "width": "252px"
   },
   "navigate_menu": true,
   "number_sections": true,
   "sideBar": true,
   "threshold": 4,
   "toc_cell": false,
   "toc_section_display": "block",
   "toc_window_display": false,
   "widenNotebook": false
  }
 },
 "nbformat": 4,
 "nbformat_minor": 2
}
